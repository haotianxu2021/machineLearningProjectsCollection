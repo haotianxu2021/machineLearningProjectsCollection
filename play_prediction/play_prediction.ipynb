{
  "cells": [
    {
      "cell_type": "markdown",
      "metadata": {
        "id": "view-in-github",
        "colab_type": "text"
      },
      "source": [
        "<a href=\"https://colab.research.google.com/github/haotianxu2021/machineLearningProjectsCollection/blob/main/play_prediction/play_prediction.ipynb\" target=\"_parent\"><img src=\"https://colab.research.google.com/assets/colab-badge.svg\" alt=\"Open In Colab\"/></a>"
      ]
    },
    {
      "cell_type": "code",
      "execution_count": null,
      "metadata": {
        "id": "0f55c023"
      },
      "outputs": [],
      "source": [
        "import gzip\n",
        "from collections import defaultdict\n",
        "import math\n",
        "import scipy.optimize\n",
        "from sklearn import svm\n",
        "import numpy\n",
        "import string\n",
        "import random\n",
        "import string\n",
        "from sklearn import linear_model\n",
        "import numpy as np"
      ],
      "id": "0f55c023"
    },
    {
      "cell_type": "code",
      "execution_count": null,
      "metadata": {
        "id": "005c1a02-c5bf-4241-8d00-dc260d36f08f"
      },
      "outputs": [],
      "source": [
        "def assertFloat(x):\n",
        "    assert type(float(x)) == float\n",
        "\n",
        "def assertFloatList(items, N):\n",
        "    assert len(items) == N\n",
        "    assert [type(float(x)) for x in items] == [float]*N"
      ],
      "id": "005c1a02-c5bf-4241-8d00-dc260d36f08f"
    },
    {
      "cell_type": "code",
      "execution_count": null,
      "metadata": {
        "id": "cb2abe72"
      },
      "outputs": [],
      "source": [
        "def readGz(path):\n",
        "    for l in gzip.open(path, 'rt', encoding='utf-8'):\n",
        "        yield eval(l)"
      ],
      "id": "cb2abe72"
    },
    {
      "cell_type": "code",
      "execution_count": null,
      "metadata": {
        "id": "e54fa48f"
      },
      "outputs": [],
      "source": [
        "def readJSON(path):\n",
        "    f = gzip.open(path, 'rt', encoding='utf-8')\n",
        "    f.readline()\n",
        "    for l in f:\n",
        "        d = eval(l)\n",
        "        u = d['userID']\n",
        "        g = d['gameID']\n",
        "        yield u,g,d"
      ],
      "id": "e54fa48f"
    },
    {
      "cell_type": "code",
      "execution_count": null,
      "metadata": {
        "id": "27aec54d"
      },
      "outputs": [],
      "source": [
        "# Some data structures that will be useful"
      ],
      "id": "27aec54d"
    },
    {
      "cell_type": "code",
      "execution_count": null,
      "metadata": {
        "id": "e72d24da"
      },
      "outputs": [],
      "source": [
        "allHours = []\n",
        "for l in readJSON(\"train.json.gz\"):\n",
        "    allHours.append(l)"
      ],
      "id": "e72d24da"
    },
    {
      "cell_type": "code",
      "execution_count": null,
      "metadata": {
        "id": "462bd9bd-b657-4571-8fef-eee11d852099"
      },
      "outputs": [],
      "source": [
        "hoursTrain = allHours[:165000]\n",
        "hoursValid = allHours[165000:]\n",
        "hoursPerUser = defaultdict(list)\n",
        "hoursPerItem = defaultdict(list)\n",
        "reviewPerUser = defaultdict(set)\n",
        "reviewPerItem = defaultdict(set)\n",
        "userHourMean = 0\n",
        "itemHourMean = 0\n",
        "userTextMean = 0\n",
        "itemTextMean = 0\n",
        "for u,g,d in hoursTrain:\n",
        "    r = d['hours_transformed']\n",
        "    hoursPerUser[u].append((g,r))\n",
        "    hoursPerItem[g].append((u,r))\n",
        "    userHourMean += r\n",
        "    itemHourMean += r\n",
        "    reviewPerUser[u].add(len(d['text']))\n",
        "    userTextMean += len(d['text'])\n",
        "    reviewPerItem[g].add(len(d['text']))\n",
        "    itemTextMean += len(d['text'])\n",
        "userHourMean /= len(hoursPerUser)\n",
        "itemHourMean /= len(hoursPerItem)\n",
        "userTextMean /= len(reviewPerUser)\n",
        "itemTextMean /= len(reviewPerItem)"
      ],
      "id": "462bd9bd-b657-4571-8fef-eee11d852099"
    },
    {
      "cell_type": "code",
      "execution_count": null,
      "metadata": {
        "id": "c58fd9e5-0ba6-4fef-83c1-315503d75348"
      },
      "outputs": [],
      "source": [
        "##################################################\n",
        "# Play prediction                                #\n",
        "##################################################"
      ],
      "id": "c58fd9e5-0ba6-4fef-83c1-315503d75348"
    },
    {
      "cell_type": "code",
      "execution_count": null,
      "metadata": {
        "id": "4e06cc33-bc60-4b45-be63-8033c17d9fe6"
      },
      "outputs": [],
      "source": [
        "# From baseline code\n",
        "gameCount = defaultdict(int)\n",
        "totalPlayed = 0\n",
        "\n",
        "for u,g,_ in hoursTrain:\n",
        "    gameCount[g] += 1\n",
        "    totalPlayed += 1\n",
        "\n",
        "mostPopular = [(gameCount[x], x) for x in gameCount]\n",
        "mostPopular.sort()\n",
        "mostPopular.reverse()\n",
        "\n",
        "return1 = set()\n",
        "count = 0\n",
        "for ic, i in mostPopular:\n",
        "    count += ic\n",
        "    return1.add(i)\n",
        "    if count > totalPlayed/2: break"
      ],
      "id": "4e06cc33-bc60-4b45-be63-8033c17d9fe6"
    },
    {
      "cell_type": "code",
      "execution_count": null,
      "metadata": {
        "id": "9ce7d7d0-f73e-46fa-b764-b796b1c79a48"
      },
      "outputs": [],
      "source": [
        "# Generate a negative set\n",
        "\n",
        "userSet = set()\n",
        "gameSet = set()\n",
        "playedSet = set()\n",
        "\n",
        "for u,g,d in allHours:\n",
        "    userSet.add(u)\n",
        "    gameSet.add(g)\n",
        "    playedSet.add((u,g))\n",
        "\n",
        "lUserSet = list(userSet)\n",
        "lGameSet = list(gameSet)\n",
        "\n",
        "notPlayed = set()\n",
        "for u,g,d in hoursValid:\n",
        "    #u = random.choice(lUserSet)\n",
        "    g = random.choice(lGameSet)\n",
        "    while (u,g) in playedSet or (u,g) in notPlayed:\n",
        "        g = random.choice(lGameSet)\n",
        "    notPlayed.add((u,g))\n",
        "\n",
        "playedValid = set()\n",
        "for u,g,r in hoursValid:\n",
        "    playedValid.add((u,g))\n",
        "\n",
        "notTrain = set()\n",
        "for u,g,d in hoursTrain:\n",
        "    #u = random.choice(lUserSet)\n",
        "    g = random.choice(lGameSet)\n",
        "    while (u,g) in playedSet or (u,g) in notTrain:\n",
        "        g = random.choice(lGameSet)\n",
        "    notTrain.add((u,g))\n",
        "\n",
        "playedTrain = set()\n",
        "for u,g,r in hoursTrain:\n",
        "    playedTrain.add((u,g))"
      ],
      "id": "9ce7d7d0-f73e-46fa-b764-b796b1c79a48"
    },
    {
      "cell_type": "code",
      "source": [
        "itemsPerUser = defaultdict(set)\n",
        "usersPerItem = defaultdict(set)\n",
        "#allGame = set()\n",
        "hourDict = {}\n",
        "for d in hoursTrain:\n",
        "    u = d[0]\n",
        "    g = d[1]\n",
        "    usersPerItem[g].add(u)\n",
        "    itemsPerUser[u].add(g)\n",
        "    hourDict[(u,g)] = d[2]['hours_transformed']\n",
        "    #allGame.add(g)\n",
        "userAverages = defaultdict(lambda: globalAverage)\n",
        "itemAverages = defaultdict(lambda: globalAverage)\n",
        "\n",
        "for u in itemsPerUser:\n",
        "    rs = [hourDict[(u,i)] for i in itemsPerUser[u]]\n",
        "    userAverages[u] = sum(rs) / len(rs)\n",
        "\n",
        "for i in usersPerItem:\n",
        "    rs = [hourDict[(u,i)] for u in usersPerItem[i]]\n",
        "    itemAverages[i] = sum(rs) / len(rs)"
      ],
      "metadata": {
        "id": "lfMijZb_deGs"
      },
      "id": "lfMijZb_deGs",
      "execution_count": null,
      "outputs": []
    },
    {
      "cell_type": "code",
      "execution_count": null,
      "metadata": {
        "id": "1d97c2dc-cee0-4a6e-b0ed-db3cde9a881d"
      },
      "outputs": [],
      "source": [
        "def Jaccard(s1, s2):\n",
        "    numer = len(s1.intersection(s2))\n",
        "    denom = len(s1.union(s2))\n",
        "    if denom > 0:\n",
        "        return numer/denom\n",
        "    return 0"
      ],
      "id": "1d97c2dc-cee0-4a6e-b0ed-db3cde9a881d"
    },
    {
      "cell_type": "code",
      "source": [
        "def CosineSet(s1, s2):\n",
        "    # Not a proper implementation, operates on sets so correct for interactions only\n",
        "    numer = len(s1.intersection(s2))\n",
        "    denom = math.sqrt(len(s1)) * math.sqrt(len(s2))\n",
        "    if denom == 0:\n",
        "        return 0\n",
        "    return numer / denom"
      ],
      "metadata": {
        "id": "9yT7i3E0dMTr"
      },
      "id": "9yT7i3E0dMTr",
      "execution_count": null,
      "outputs": []
    },
    {
      "cell_type": "code",
      "source": [
        "def Pearson(i1, i2):\n",
        "    # Between two items\n",
        "    iBar1 = itemAverages[i1]\n",
        "    iBar2 = itemAverages[i2]\n",
        "    inter = usersPerItem[i1].intersection(usersPerItem[i2])\n",
        "    numer = 0\n",
        "    denom1 = 0\n",
        "    denom2 = 0\n",
        "    for u in inter:\n",
        "        numer += (hourDict[(u,i1)] - iBar1)*(hourDict[(u,i2)] - iBar2)\n",
        "    for u in inter: #usersPerItem[i1]:\n",
        "        denom1 += (hourDict[(u,i1)] - iBar1)**2\n",
        "    #for u in usersPerItem[i2]:\n",
        "        denom2 += (hourDict[(u,i2)] - iBar2)**2\n",
        "    denom = math.sqrt(denom1) * math.sqrt(denom2)\n",
        "    if denom == 0: return 0\n",
        "    return numer / denom"
      ],
      "metadata": {
        "id": "VXEg2p-cdN2-"
      },
      "id": "VXEg2p-cdN2-",
      "execution_count": null,
      "outputs": []
    },
    {
      "cell_type": "code",
      "source": [
        "def dice_coefficient(s1, s2):\n",
        "    numer = 2 * len(s1.intersection(s2))\n",
        "    denom = len(s1) + len(s2)\n",
        "    return numer / denom if denom > 0 else 0\n"
      ],
      "metadata": {
        "id": "qw-_AxperTdx"
      },
      "id": "qw-_AxperTdx",
      "execution_count": null,
      "outputs": []
    },
    {
      "cell_type": "code",
      "source": [
        "def overlap_coefficient(s1, s2):\n",
        "    numer = len(s1.intersection(s2))\n",
        "    denom = min(len(s1), len(s2))\n",
        "    return numer / denom if denom > 0 else 0\n"
      ],
      "metadata": {
        "id": "vs14sjlErVOM"
      },
      "id": "vs14sjlErVOM",
      "execution_count": null,
      "outputs": []
    },
    {
      "cell_type": "code",
      "source": [
        "userIDs,itemIDs = {},{}\n",
        "\n",
        "for d in allHours:\n",
        "    u,g = d[0],d[1]\n",
        "    if not u in userIDs: userIDs[u] = len(userIDs)\n",
        "    if not g in itemIDs: itemIDs[g] = len(itemIDs)\n",
        "\n",
        "nUsers,nItems = len(userIDs),len(itemIDs)"
      ],
      "metadata": {
        "id": "XTMc7LmgQ3YL"
      },
      "id": "XTMc7LmgQ3YL",
      "execution_count": null,
      "outputs": []
    },
    {
      "cell_type": "code",
      "source": [
        "Xui = scipy.sparse.lil_matrix((nUsers, nItems))\n",
        "for d in allHours:\n",
        "    Xui[userIDs[d[0]],itemIDs[d[1]]] = 1\n",
        "\n",
        "Xui_csr = scipy.sparse.csr_matrix(Xui)"
      ],
      "metadata": {
        "id": "X9fOnnI5Q-fM"
      },
      "id": "X9fOnnI5Q-fM",
      "execution_count": null,
      "outputs": []
    },
    {
      "cell_type": "code",
      "source": [
        "from implicit import bpr\n",
        "model = bpr.BayesianPersonalizedRanking(factors = 5)\n",
        "model.fit(Xui_csr)"
      ],
      "metadata": {
        "id": "kzNl12pkR0aM"
      },
      "id": "kzNl12pkR0aM",
      "execution_count": null,
      "outputs": []
    },
    {
      "cell_type": "code",
      "source": [
        "itemFactors = model.item_factors\n",
        "userFactors = model.user_factors"
      ],
      "metadata": {
        "id": "bdoI7qhER7HE"
      },
      "id": "bdoI7qhER7HE",
      "execution_count": null,
      "outputs": []
    },
    {
      "cell_type": "code",
      "source": [
        "def feature1(d):\n",
        "  f = [1]\n",
        "  u = d[0]\n",
        "  g = d[1]\n",
        "  jSim = 0\n",
        "  jSim2 = 0\n",
        "  jSim3 = 0\n",
        "#   if g not in hoursPerItem:\n",
        "#       jSim = 0.0022798170033482357\n",
        "#       cosSim = 0.005154011148885324\n",
        "#       pSim = 0.9299402156364783\n",
        "#       dSim = 0.004509630826211442\n",
        "#       oSim = 0.008850095157601514\n",
        "#       jSim2 = 0.0459941652533766\n",
        "#       cosSim2 = 0.09410976452395077\n",
        "#       dSim2 = 0.08746234921059354\n",
        "#       oSim2 = 0.188463016358414\n",
        "#   else:\n",
        "  users = set(hoursPerItem[g])\n",
        "  users2 = set(usersPerItem[g])\n",
        "  items = set(itemsPerUser[u])\n",
        "#   time = userHourMean[u] if u in userHourMean else itemHourMean[g]\n",
        "#   text = userTextMean[u] if u in userTextMean else itemTextMean[g]\n",
        "  for index, (g2,r) in enumerate(hoursPerUser[u]):\n",
        "    if g2 == g:\n",
        "      continue\n",
        "    jSim = max(Jaccard(users,set(hoursPerItem[g2])), jSim)\n",
        "#     cosSim = max(CosineSet(users,set(hoursPerItem[g2])), cosSim)\n",
        "#     pSim = max(Pearson(g,g2), pSim)\n",
        "#     dSim = max(dice_coefficient(users,set(hoursPerItem[g2])), dSim)\n",
        "#     oSim = max(overlap_coefficient(users,set(hoursPerItem[g2])), oSim)\n",
        "    jSim2 = max(Jaccard(users2,set(usersPerItem[g2])), jSim2)\n",
        "#     cosSim2 = max(CosineSet(users2,set(usersPerItem[g2])), cosSim2)\n",
        "#     # pSim2 = max(Pearson(g,g2), pSim2)\n",
        "#     dSim2 = max(dice_coefficient(users2,set(usersPerItem[g2])), dSim2)\n",
        "#     oSim2 = max(overlap_coefficient(users2,set(usersPerItem[g2])), oSim2)\n",
        "  for u2,r in hoursPerItem[g]:\n",
        "        if u2==u:\n",
        "            continue\n",
        "        jSim3 = max(Jaccard(items,set(itemsPerUser[u2])), jSim3)\n",
        "#   score = 0\n",
        "#   if (u not in userIDs.keys()) or (i not in itemIDs.keys()):\n",
        "#     score = 0\n",
        "#   else:\n",
        "#     itemFactor = itemFactors[itemIDs[i]]\n",
        "#     userFactor = userFactors[userIDs[u]]\n",
        "#     score = np.dot(userFactor, itemFactor)\n",
        "  user_index = userIDs.get(u, None)\n",
        "  bpr_rec = 0\n",
        "  if user_index is not None:\n",
        "    user_vector = Xui_csr[user_index]\n",
        "    recommended = model.recommend(user_index, Xui_csr[user_index], N=500, filter_already_liked_items=False)\n",
        "    if itemIDs[g] in set(recommended[0]):\n",
        "        bpr_rec = 1\n",
        "  item_len = len(hoursPerItem.get(g, []))\n",
        "#   item_av = itemAverages.get(g,0)\n",
        "#   item_hr = sum([r for _,r in hoursPerItem.get(g, [])])\n",
        "#   user_len = len(hoursPerUser.get(u, []))\n",
        "  item_log = math.log2(item_len) if item_len > 0 else 0\n",
        "#   hr_log = math.log2(item_hr) if item_hr > 0 else 0\n",
        "#   user_log = math.log2(user_len) if user_len > 0 else 0\n",
        "  f = [jSim, jSim2, jSim3, item_len, item_log, bpr_rec]\n",
        "  return f\n"
      ],
      "metadata": {
        "id": "qXy8kUnnlzk5"
      },
      "id": "qXy8kUnnlzk5",
      "execution_count": null,
      "outputs": []
    },
    {
      "cell_type": "code",
      "source": [
        "X_1 = [feature1(d) for label, sample in [(1, playedTrain), (0, notTrain)] for d in sample]\n",
        "y_1 = [label for label, sample in [(1, playedTrain), (0, notTrain)] for d in sample]"
      ],
      "metadata": {
        "id": "vaIvoPu2xqdZ"
      },
      "id": "vaIvoPu2xqdZ",
      "execution_count": null,
      "outputs": []
    },
    {
      "cell_type": "code",
      "source": [
        "np.mean([x[6] for x in X_1[0:len(X_1)//2]])"
      ],
      "metadata": {
        "id": "cUQPhOQ42y6C",
        "colab": {
          "base_uri": "https://localhost:8080/"
        },
        "outputId": "ec333d0d-f0a2-4a24-ccad-281d0f22d28d"
      },
      "id": "cUQPhOQ42y6C",
      "execution_count": null,
      "outputs": [
        {
          "output_type": "execute_result",
          "data": {
            "text/plain": [
              "-0.41162935"
            ]
          },
          "metadata": {},
          "execution_count": 70
        }
      ]
    },
    {
      "cell_type": "code",
      "source": [
        "from sklearn.ensemble import ExtraTreesClassifier\n",
        "from sklearn.linear_model import RidgeClassifierCV\n",
        "# from sklearn.cluster import KMeans\n",
        "# from sklearn.neighbors import KNeighborsRegressor\n",
        "# from sklearn.neural_network import MLPRegressor\n",
        "import lightgbm as lgb\n",
        "# from sklearn.model_selection import GridSearchCV\n",
        "\n",
        "reg = RidgeClassifierCV(cv=3)\n",
        "reg.fit(X_1, y_1)"
      ],
      "metadata": {
        "id": "QC4sx6Uq7tw-",
        "colab": {
          "base_uri": "https://localhost:8080/",
          "height": 74
        },
        "outputId": "704001c0-a8fa-410e-994d-c5eeb4c7ba47"
      },
      "id": "QC4sx6Uq7tw-",
      "execution_count": null,
      "outputs": [
        {
          "output_type": "execute_result",
          "data": {
            "text/plain": [
              "RidgeClassifierCV(cv=3)"
            ],
            "text/html": [
              "<style>#sk-container-id-11 {color: black;background-color: white;}#sk-container-id-11 pre{padding: 0;}#sk-container-id-11 div.sk-toggleable {background-color: white;}#sk-container-id-11 label.sk-toggleable__label {cursor: pointer;display: block;width: 100%;margin-bottom: 0;padding: 0.3em;box-sizing: border-box;text-align: center;}#sk-container-id-11 label.sk-toggleable__label-arrow:before {content: \"▸\";float: left;margin-right: 0.25em;color: #696969;}#sk-container-id-11 label.sk-toggleable__label-arrow:hover:before {color: black;}#sk-container-id-11 div.sk-estimator:hover label.sk-toggleable__label-arrow:before {color: black;}#sk-container-id-11 div.sk-toggleable__content {max-height: 0;max-width: 0;overflow: hidden;text-align: left;background-color: #f0f8ff;}#sk-container-id-11 div.sk-toggleable__content pre {margin: 0.2em;color: black;border-radius: 0.25em;background-color: #f0f8ff;}#sk-container-id-11 input.sk-toggleable__control:checked~div.sk-toggleable__content {max-height: 200px;max-width: 100%;overflow: auto;}#sk-container-id-11 input.sk-toggleable__control:checked~label.sk-toggleable__label-arrow:before {content: \"▾\";}#sk-container-id-11 div.sk-estimator input.sk-toggleable__control:checked~label.sk-toggleable__label {background-color: #d4ebff;}#sk-container-id-11 div.sk-label input.sk-toggleable__control:checked~label.sk-toggleable__label {background-color: #d4ebff;}#sk-container-id-11 input.sk-hidden--visually {border: 0;clip: rect(1px 1px 1px 1px);clip: rect(1px, 1px, 1px, 1px);height: 1px;margin: -1px;overflow: hidden;padding: 0;position: absolute;width: 1px;}#sk-container-id-11 div.sk-estimator {font-family: monospace;background-color: #f0f8ff;border: 1px dotted black;border-radius: 0.25em;box-sizing: border-box;margin-bottom: 0.5em;}#sk-container-id-11 div.sk-estimator:hover {background-color: #d4ebff;}#sk-container-id-11 div.sk-parallel-item::after {content: \"\";width: 100%;border-bottom: 1px solid gray;flex-grow: 1;}#sk-container-id-11 div.sk-label:hover label.sk-toggleable__label {background-color: #d4ebff;}#sk-container-id-11 div.sk-serial::before {content: \"\";position: absolute;border-left: 1px solid gray;box-sizing: border-box;top: 0;bottom: 0;left: 50%;z-index: 0;}#sk-container-id-11 div.sk-serial {display: flex;flex-direction: column;align-items: center;background-color: white;padding-right: 0.2em;padding-left: 0.2em;position: relative;}#sk-container-id-11 div.sk-item {position: relative;z-index: 1;}#sk-container-id-11 div.sk-parallel {display: flex;align-items: stretch;justify-content: center;background-color: white;position: relative;}#sk-container-id-11 div.sk-item::before, #sk-container-id-11 div.sk-parallel-item::before {content: \"\";position: absolute;border-left: 1px solid gray;box-sizing: border-box;top: 0;bottom: 0;left: 50%;z-index: -1;}#sk-container-id-11 div.sk-parallel-item {display: flex;flex-direction: column;z-index: 1;position: relative;background-color: white;}#sk-container-id-11 div.sk-parallel-item:first-child::after {align-self: flex-end;width: 50%;}#sk-container-id-11 div.sk-parallel-item:last-child::after {align-self: flex-start;width: 50%;}#sk-container-id-11 div.sk-parallel-item:only-child::after {width: 0;}#sk-container-id-11 div.sk-dashed-wrapped {border: 1px dashed gray;margin: 0 0.4em 0.5em 0.4em;box-sizing: border-box;padding-bottom: 0.4em;background-color: white;}#sk-container-id-11 div.sk-label label {font-family: monospace;font-weight: bold;display: inline-block;line-height: 1.2em;}#sk-container-id-11 div.sk-label-container {text-align: center;}#sk-container-id-11 div.sk-container {/* jupyter's `normalize.less` sets `[hidden] { display: none; }` but bootstrap.min.css set `[hidden] { display: none !important; }` so we also need the `!important` here to be able to override the default hidden behavior on the sphinx rendered scikit-learn.org. See: https://github.com/scikit-learn/scikit-learn/issues/21755 */display: inline-block !important;position: relative;}#sk-container-id-11 div.sk-text-repr-fallback {display: none;}</style><div id=\"sk-container-id-11\" class=\"sk-top-container\"><div class=\"sk-text-repr-fallback\"><pre>RidgeClassifierCV(cv=3)</pre><b>In a Jupyter environment, please rerun this cell to show the HTML representation or trust the notebook. <br />On GitHub, the HTML representation is unable to render, please try loading this page with nbviewer.org.</b></div><div class=\"sk-container\" hidden><div class=\"sk-item\"><div class=\"sk-estimator sk-toggleable\"><input class=\"sk-toggleable__control sk-hidden--visually\" id=\"sk-estimator-id-11\" type=\"checkbox\" checked><label for=\"sk-estimator-id-11\" class=\"sk-toggleable__label sk-toggleable__label-arrow\">RidgeClassifierCV</label><div class=\"sk-toggleable__content\"><pre>RidgeClassifierCV(cv=3)</pre></div></div></div></div></div>"
            ]
          },
          "metadata": {},
          "execution_count": 64
        }
      ]
    },
    {
      "cell_type": "code",
      "source": [
        "y1valid = [label for label, sample in [(1, playedValid), (0, notPlayed)] for d in sample]\n",
        "X1valid = [feature1(d) for label, sample in [(1, playedValid), (0, notPlayed)] for d in sample]"
      ],
      "metadata": {
        "id": "7x8EHj4e8W_S"
      },
      "id": "7x8EHj4e8W_S",
      "execution_count": null,
      "outputs": []
    },
    {
      "cell_type": "code",
      "source": [
        "X1valid[-10:-1]"
      ],
      "metadata": {
        "id": "m5LB8mpo9LKW",
        "colab": {
          "base_uri": "https://localhost:8080/"
        },
        "outputId": "69d467e7-423f-466f-f1ad-6a44e190f1b9"
      },
      "id": "m5LB8mpo9LKW",
      "execution_count": null,
      "outputs": [
        {
          "output_type": "execute_result",
          "data": {
            "text/plain": [
              "[[1, 0, 0, 1.0, 0, 0, -1.1958413, 38],\n",
              " [1,\n",
              "  0.01020408163265306,\n",
              "  0.020203050891044214,\n",
              "  1.0,\n",
              "  0.020202020202020204,\n",
              "  0.02040816326530612,\n",
              "  -1.3961333,\n",
              "  50],\n",
              " [1,\n",
              "  0.004784688995215311,\n",
              "  0.010216322170996611,\n",
              "  1.0,\n",
              "  0.009523809523809525,\n",
              "  0.014925373134328358,\n",
              "  0.88969195,\n",
              "  67],\n",
              " [1, 0, 0, 1.0, 0, 0, -1.0967652, 19],\n",
              " [1,\n",
              "  0.0022123893805309734,\n",
              "  0.004416313253071939,\n",
              "  0.8403361030046421,\n",
              "  0.004415011037527594,\n",
              "  0.004524886877828055,\n",
              "  -1.4731504,\n",
              "  232],\n",
              " [1, 0, 0, 1.0, 0, 0, -0.67704123, 17],\n",
              " [1,\n",
              "  0.006369426751592357,\n",
              "  0.01480872194397731,\n",
              "  1.0,\n",
              "  0.012658227848101266,\n",
              "  0.02631578947368421,\n",
              "  0.17560877,\n",
              "  38],\n",
              " [1, 0, 0, 1.0, 0, 0, 1.4691615, 37],\n",
              " [1, 0, 0, 1.0, 0, 0, -1.0599993, 20]]"
            ]
          },
          "metadata": {},
          "execution_count": 32
        }
      ]
    },
    {
      "cell_type": "code",
      "source": [
        "y_pred = reg.predict(X1valid)\n",
        "y_tr = reg.predict(X_1)\n",
        "print(sum([y_pred[i] == y1valid[i] for i in range(len(y1valid))]) / len(y1valid))\n",
        "print(sum([y_tr[i] == y_1[i] for i in range(len(y_1))]) / len(y_1))"
      ],
      "metadata": {
        "id": "P3JY2Ly08uK_",
        "colab": {
          "base_uri": "https://localhost:8080/"
        },
        "outputId": "bc118ebc-c79a-4119-faa8-b9e6de6a8f32"
      },
      "id": "P3JY2Ly08uK_",
      "execution_count": null,
      "outputs": [
        {
          "output_type": "stream",
          "name": "stdout",
          "text": [
            "0.6758675867586759\n",
            "0.6964606060606061\n"
          ]
        }
      ]
    },
    {
      "cell_type": "code",
      "source": [
        "for a in range(8,14):\n",
        "  reg = RandomForestClassifier(max_depth=a)\n",
        "  reg.fit(X_1, y_1)\n",
        "  y_pred = reg.predict(X1valid)\n",
        "  # y_tr = reg.predict(X_1)\n",
        "  print(a, sum([y_pred[i] == y1valid[i] for i in range(len(y1valid))]) / len(y1valid))\n",
        "  # print(sum([y_tr[i] == y_1[i] for i in range(len(y_1))]) / len(y_1))"
      ],
      "metadata": {
        "colab": {
          "base_uri": "https://localhost:8080/"
        },
        "id": "fm89My8cbWsM",
        "outputId": "9571755d-80b2-49b6-fa48-b5f482eedcca"
      },
      "id": "fm89My8cbWsM",
      "execution_count": null,
      "outputs": [
        {
          "output_type": "stream",
          "name": "stdout",
          "text": [
            "8 0.7024702470247025\n",
            "9 0.7017701770177017\n",
            "10 0.7025202520252025\n",
            "11 0.7023202320232024\n",
            "12 0.7022202220222022\n",
            "13 0.7021202120212021\n"
          ]
        }
      ]
    },
    {
      "cell_type": "code",
      "source": [
        "hoursTrain = allHours[:165000]\n",
        "hoursValid = allHours[165000:]\n",
        "hoursPerUser = defaultdict(list)\n",
        "hoursPerItem = defaultdict(list)\n",
        "reviewPerUser = defaultdict(list)\n",
        "reviewPerItem = defaultdict(list)\n",
        "userHourMean = defaultdict(float)\n",
        "itemHourMean = defaultdict(float)\n",
        "userTextMean = defaultdict(float)\n",
        "itemTextMean = defaultdict(float)\n",
        "for u,g,d in allHours:\n",
        "    r = d['hours_transformed']\n",
        "    hoursPerUser[u].append((g,r))\n",
        "    hoursPerItem[g].append((u,r))\n",
        "#     userHourMean[u].append(r)\n",
        "#     itemHourMean[i].append(r)\n",
        "    reviewPerUser[u].append(len(d['text']))\n",
        "#     userTextMean[u].append(len(d['text']))\n",
        "    reviewPerItem[g].append(len(d['text']))\n",
        "#     itemTextMean[i].append(len(d['text']))\n",
        "for u,g,d in allHours:\n",
        "    userHourMean[u] = sum([r for _,r in hoursPerUser[u]])/len(hoursPerUser)\n",
        "    itemHourMean[g] = sum([r for _,r in hoursPerItem[g]])/len(hoursPerItem)\n",
        "    userTextMean[u] = sum([r for r in reviewPerUser[u]])/len(reviewPerUser)\n",
        "    itemTextMean[g] = sum([r for r in reviewPerItem[g]])/len(reviewPerItem)"
      ],
      "metadata": {
        "id": "jpGBNzLWiDxB"
      },
      "id": "jpGBNzLWiDxB",
      "execution_count": null,
      "outputs": []
    },
    {
      "cell_type": "code",
      "source": [
        "itemsPerUser = defaultdict(set)\n",
        "usersPerItem = defaultdict(set)\n",
        "#allGame = set()\n",
        "hourDict = {}\n",
        "for d in allHours:\n",
        "    u = d[0]\n",
        "    g = d[1]\n",
        "    usersPerItem[g].add(u)\n",
        "    itemsPerUser[u].add(g)\n",
        "    hourDict[(u,g)] = d[2]['hours_transformed']\n",
        "    #allGame.add(g)\n",
        "userAverages = defaultdict(lambda: globalAverage)\n",
        "itemAverages = defaultdict(lambda: globalAverage)\n",
        "\n",
        "for u in itemsPerUser:\n",
        "    rs = [hourDict[(u,i)] for i in itemsPerUser[u]]\n",
        "    userAverages[u] = sum(rs) / len(rs)\n",
        "\n",
        "for i in usersPerItem:\n",
        "    rs = [hourDict[(u,i)] for u in usersPerItem[i]]\n",
        "    itemAverages[i] = sum(rs) / len(rs)"
      ],
      "metadata": {
        "id": "BkxLwNobiI04"
      },
      "id": "BkxLwNobiI04",
      "execution_count": null,
      "outputs": []
    },
    {
      "cell_type": "code",
      "source": [
        "X_comb = [feature1(d) for label, sample in [(1, playedTrain), (0, notTrain), (1, playedValid), (0, notPlayed)] for d in sample]\n",
        "print(len(X_comb))\n",
        "y_comb = [label for label, sample in [(1, playedTrain), (0, notTrain), (1, playedValid), (0, notPlayed)] for d in sample]"
      ],
      "metadata": {
        "colab": {
          "base_uri": "https://localhost:8080/"
        },
        "id": "ni3mDs55EQcQ",
        "outputId": "6ec2e156-7aa2-4ea5-f478-f52e761cada5"
      },
      "id": "ni3mDs55EQcQ",
      "execution_count": null,
      "outputs": [
        {
          "output_type": "stream",
          "name": "stdout",
          "text": [
            "349998\n"
          ]
        }
      ]
    },
    {
      "cell_type": "code",
      "source": [
        "from sklearn.linear_model import LogisticRegression\n",
        "from sklearn.svm import LinearSVC, SVC\n",
        "from sklearn.model_selection import GridSearchCV\n",
        "from sklearn.ensemble import ExtraTreesClassifier, RandomForestClassifier\n",
        "from sklearn.neighbors import KNeighborsClassifier\n",
        "import lightgbm as lgb\n",
        "params = {}\n",
        "mod = LogisticRegression(C=0.001)\n",
        "gr = GridSearchCV(mod, params, cv=3)\n",
        "gr.fit(X_comb, y_comb)\n",
        "print(gr.best_score_)\n",
        "print(gr.best_params_)"
      ],
      "metadata": {
        "colab": {
          "base_uri": "https://localhost:8080/",
          "height": 250
        },
        "id": "Ac4GzF_bc43b",
        "outputId": "e3fb754e-972b-4980-b1c2-0920a2fd8d27"
      },
      "id": "Ac4GzF_bc43b",
      "execution_count": null,
      "outputs": [
        {
          "output_type": "stream",
          "name": "stdout",
          "text": [
            "[LightGBM] [Warning] Accuracy may be bad since you didn't explicitly set num_leaves OR 2^max_depth > num_leaves. (num_leaves=31).\n",
            "[LightGBM] [Warning] Accuracy may be bad since you didn't explicitly set num_leaves OR 2^max_depth > num_leaves. (num_leaves=31).\n",
            "[LightGBM] [Info] Number of positive: 165000, number of negative: 165000\n",
            "[LightGBM] [Info] Auto-choosing col-wise multi-threading, the overhead of testing was 0.031257 seconds.\n",
            "You can set `force_col_wise=true` to remove the overhead.\n",
            "[LightGBM] [Info] Total Bins 1752\n",
            "[LightGBM] [Info] Number of data points in the train set: 330000, number of used features: 7\n",
            "[LightGBM] [Info] [binary:BoostFromScore]: pavg=0.500000 -> initscore=0.000000\n",
            "[LightGBM] [Warning] No further splits with positive gain, best gain: -inf\n"
          ]
        },
        {
          "output_type": "execute_result",
          "data": {
            "text/plain": [
              "LGBMClassifier(max_depth=7)"
            ],
            "text/html": [
              "<style>#sk-container-id-10 {color: black;background-color: white;}#sk-container-id-10 pre{padding: 0;}#sk-container-id-10 div.sk-toggleable {background-color: white;}#sk-container-id-10 label.sk-toggleable__label {cursor: pointer;display: block;width: 100%;margin-bottom: 0;padding: 0.3em;box-sizing: border-box;text-align: center;}#sk-container-id-10 label.sk-toggleable__label-arrow:before {content: \"▸\";float: left;margin-right: 0.25em;color: #696969;}#sk-container-id-10 label.sk-toggleable__label-arrow:hover:before {color: black;}#sk-container-id-10 div.sk-estimator:hover label.sk-toggleable__label-arrow:before {color: black;}#sk-container-id-10 div.sk-toggleable__content {max-height: 0;max-width: 0;overflow: hidden;text-align: left;background-color: #f0f8ff;}#sk-container-id-10 div.sk-toggleable__content pre {margin: 0.2em;color: black;border-radius: 0.25em;background-color: #f0f8ff;}#sk-container-id-10 input.sk-toggleable__control:checked~div.sk-toggleable__content {max-height: 200px;max-width: 100%;overflow: auto;}#sk-container-id-10 input.sk-toggleable__control:checked~label.sk-toggleable__label-arrow:before {content: \"▾\";}#sk-container-id-10 div.sk-estimator input.sk-toggleable__control:checked~label.sk-toggleable__label {background-color: #d4ebff;}#sk-container-id-10 div.sk-label input.sk-toggleable__control:checked~label.sk-toggleable__label {background-color: #d4ebff;}#sk-container-id-10 input.sk-hidden--visually {border: 0;clip: rect(1px 1px 1px 1px);clip: rect(1px, 1px, 1px, 1px);height: 1px;margin: -1px;overflow: hidden;padding: 0;position: absolute;width: 1px;}#sk-container-id-10 div.sk-estimator {font-family: monospace;background-color: #f0f8ff;border: 1px dotted black;border-radius: 0.25em;box-sizing: border-box;margin-bottom: 0.5em;}#sk-container-id-10 div.sk-estimator:hover {background-color: #d4ebff;}#sk-container-id-10 div.sk-parallel-item::after {content: \"\";width: 100%;border-bottom: 1px solid gray;flex-grow: 1;}#sk-container-id-10 div.sk-label:hover label.sk-toggleable__label {background-color: #d4ebff;}#sk-container-id-10 div.sk-serial::before {content: \"\";position: absolute;border-left: 1px solid gray;box-sizing: border-box;top: 0;bottom: 0;left: 50%;z-index: 0;}#sk-container-id-10 div.sk-serial {display: flex;flex-direction: column;align-items: center;background-color: white;padding-right: 0.2em;padding-left: 0.2em;position: relative;}#sk-container-id-10 div.sk-item {position: relative;z-index: 1;}#sk-container-id-10 div.sk-parallel {display: flex;align-items: stretch;justify-content: center;background-color: white;position: relative;}#sk-container-id-10 div.sk-item::before, #sk-container-id-10 div.sk-parallel-item::before {content: \"\";position: absolute;border-left: 1px solid gray;box-sizing: border-box;top: 0;bottom: 0;left: 50%;z-index: -1;}#sk-container-id-10 div.sk-parallel-item {display: flex;flex-direction: column;z-index: 1;position: relative;background-color: white;}#sk-container-id-10 div.sk-parallel-item:first-child::after {align-self: flex-end;width: 50%;}#sk-container-id-10 div.sk-parallel-item:last-child::after {align-self: flex-start;width: 50%;}#sk-container-id-10 div.sk-parallel-item:only-child::after {width: 0;}#sk-container-id-10 div.sk-dashed-wrapped {border: 1px dashed gray;margin: 0 0.4em 0.5em 0.4em;box-sizing: border-box;padding-bottom: 0.4em;background-color: white;}#sk-container-id-10 div.sk-label label {font-family: monospace;font-weight: bold;display: inline-block;line-height: 1.2em;}#sk-container-id-10 div.sk-label-container {text-align: center;}#sk-container-id-10 div.sk-container {/* jupyter's `normalize.less` sets `[hidden] { display: none; }` but bootstrap.min.css set `[hidden] { display: none !important; }` so we also need the `!important` here to be able to override the default hidden behavior on the sphinx rendered scikit-learn.org. See: https://github.com/scikit-learn/scikit-learn/issues/21755 */display: inline-block !important;position: relative;}#sk-container-id-10 div.sk-text-repr-fallback {display: none;}</style><div id=\"sk-container-id-10\" class=\"sk-top-container\"><div class=\"sk-text-repr-fallback\"><pre>LGBMClassifier(max_depth=7)</pre><b>In a Jupyter environment, please rerun this cell to show the HTML representation or trust the notebook. <br />On GitHub, the HTML representation is unable to render, please try loading this page with nbviewer.org.</b></div><div class=\"sk-container\" hidden><div class=\"sk-item\"><div class=\"sk-estimator sk-toggleable\"><input class=\"sk-toggleable__control sk-hidden--visually\" id=\"sk-estimator-id-10\" type=\"checkbox\" checked><label for=\"sk-estimator-id-10\" class=\"sk-toggleable__label sk-toggleable__label-arrow\">LGBMClassifier</label><div class=\"sk-toggleable__content\"><pre>LGBMClassifier(max_depth=7)</pre></div></div></div></div></div>"
            ]
          },
          "metadata": {},
          "execution_count": 60
        }
      ]
    },
    {
      "cell_type": "code",
      "source": [
        "reg = LogisticRegression(C=0.0005, random_state=1)\n",
        "reg.fit(X_comb, y_comb)\n",
        "reg2 = LogisticRegression(C=0.005, random_state=2)\n",
        "reg2.fit(X_comb, y_comb)\n",
        "reg3 = LogisticRegression(C=0.001, random_state=3)\n",
        "reg3.fit(X_comb, y_comb)\n",
        "reg4 = LinearSVC(C=0.01, random_state=4)\n",
        "reg4.fit(X_comb, y_comb)\n",
        "reg5 = LinearSVC(C=0.1, random_state=5)\n",
        "reg5.fit(X_comb, y_comb)"
      ],
      "metadata": {
        "id": "Y1KQ0-hqisqD"
      },
      "id": "Y1KQ0-hqisqD",
      "execution_count": null,
      "outputs": []
    },
    {
      "cell_type": "code",
      "source": [
        "def popu_meta(u,g, thres, thres1, thres2):\n",
        "#     jSim = 0\n",
        "#     cosSim = 0\n",
        "#     users2 = set(usersPerItem[g])\n",
        "#     for index, (g2,r) in enumerate(hoursPerUser[u]):\n",
        "#         if g2 == g:\n",
        "#           continue\n",
        "#         jSim = max(Jaccard(users2,set(usersPerItem[g2])), jSim)\n",
        "#         cosSim = max(CosineSet(users2,set(usersPerItem[g2])), cosSim)\n",
        "    pred = 0\n",
        "    if len(hoursPerItem[g]) > thres or reg.predict([feature1((u,g))])[0] or reg2.predict([feature1((u,g))])[0] or reg3.predict([feature1((u,g))])[0] or reg4.predict([feature1((u,g))])[0]:\n",
        "        return 1\n",
        "    else:\n",
        "        return 0"
      ],
      "metadata": {
        "id": "WEGQMoI5it5X"
      },
      "id": "WEGQMoI5it5X",
      "execution_count": null,
      "outputs": []
    },
    {
      "cell_type": "code",
      "execution_count": null,
      "metadata": {
        "id": "75f81286-487d-494a-8ee8-a42c1aca6eb7"
      },
      "outputs": [],
      "source": [
        "predictions = open(\"predictions_Played.csv\", 'w')\n",
        "for l in open(\"pairs_Played.csv\"):\n",
        "    if l.startswith(\"userID\"):\n",
        "        predictions.write(l)\n",
        "        continue\n",
        "    u,g = l.strip().split(',')\n",
        "    # maxSim = 0\n",
        "    # users = set(hoursPerItem[g])\n",
        "    # for g2,_ in hoursPerUser[u]:\n",
        "    #     sim = Jaccard(users,set(hoursPerItem[g2]))\n",
        "    #     if sim > maxSim:\n",
        "    #         maxSim = sim\n",
        "    # pred = 0\n",
        "    # if maxSim > 0.028 or len(hoursPerItem[g]) > 73:\n",
        "    #     pred = 1\n",
        "    # pred = popu_meta(u, g, 90, 0.25, 0.15)\n",
        "    pred = reg3.predict([feature1((u,g))])[0]\n",
        "    _ = predictions.write(u + ',' + g + ',' + str(pred) + '\\n')\n",
        "\n",
        "predictions.close()"
      ],
      "id": "75f81286-487d-494a-8ee8-a42c1aca6eb7"
    },
    {
      "cell_type": "code",
      "execution_count": null,
      "metadata": {
        "id": "c82a7a00"
      },
      "outputs": [],
      "source": [
        "##################################################\n",
        "# Hours played prediction                        #\n",
        "##################################################"
      ],
      "id": "c82a7a00"
    },
    {
      "cell_type": "code",
      "execution_count": null,
      "metadata": {
        "id": "772dd561-ceae-4c2e-9347-7ba3eb2dd650"
      },
      "outputs": [],
      "source": [
        "trainHours = [r[2]['hours_transformed'] for r in hoursTrain]\n",
        "globalAverage = sum(trainHours) * 1.0 / len(trainHours)"
      ],
      "id": "772dd561-ceae-4c2e-9347-7ba3eb2dd650"
    },
    {
      "cell_type": "code",
      "source": [
        "len(allHours)"
      ],
      "metadata": {
        "colab": {
          "base_uri": "https://localhost:8080/"
        },
        "id": "I_UZ0UukzELT",
        "outputId": "24460dd5-f3de-4569-c38c-952f44ee1c57"
      },
      "id": "I_UZ0UukzELT",
      "execution_count": null,
      "outputs": [
        {
          "output_type": "execute_result",
          "data": {
            "text/plain": [
              "174999"
            ]
          },
          "metadata": {},
          "execution_count": 105
        }
      ]
    },
    {
      "cell_type": "code",
      "execution_count": null,
      "metadata": {
        "colab": {
          "base_uri": "https://localhost:8080/"
        },
        "id": "beddb1d9-e61b-4903-b557-f04810fd7c68",
        "outputId": "f5a0983e-e02d-4a6d-d9d0-563441774c01"
      },
      "outputs": [
        {
          "output_type": "stream",
          "name": "stdout",
          "text": [
            "Validation MSE (average only) = 5.316020858088501\n"
          ]
        }
      ],
      "source": [
        "validMSE = 0\n",
        "for u,g,d in hoursValid:\n",
        "    r = d['hours_transformed']\n",
        "    se = (r - globalAverage)**2\n",
        "    validMSE += se\n",
        "\n",
        "validMSE /= len(hoursValid)\n",
        "\n",
        "print(\"Validation MSE (average only) = \" + str(validMSE))"
      ],
      "id": "beddb1d9-e61b-4903-b557-f04810fd7c68"
    },
    {
      "cell_type": "code",
      "execution_count": null,
      "metadata": {
        "id": "4b95a9e5-b36f-4883-befb-6dedfd833dcb"
      },
      "outputs": [],
      "source": [
        "### Question 6\n",
        "## latent methods\n",
        "import numpy as np"
      ],
      "id": "4b95a9e5-b36f-4883-befb-6dedfd833dcb"
    },
    {
      "cell_type": "code",
      "execution_count": null,
      "metadata": {
        "id": "d4b39158-3b06-4057-bfb7-5ef1d547e3b3"
      },
      "outputs": [],
      "source": [
        "betaU = {}\n",
        "betaI = {}\n",
        "for u in hoursPerUser:\n",
        "    betaU[u] = 0\n",
        "\n",
        "for g in hoursPerItem:\n",
        "    betaI[g] = 0\n",
        "k = 1\n",
        "gammaU = defaultdict(lambda: np.zeros(k))\n",
        "gammaI = defaultdict(lambda: np.zeros(k))\n",
        "for u in hoursPerUser:\n",
        "    gammaU[u] = np.zeros(k)\n",
        "\n",
        "for g in hoursPerItem:\n",
        "    gammaI[g] = np.zeros(k)"
      ],
      "id": "d4b39158-3b06-4057-bfb7-5ef1d547e3b3"
    },
    {
      "cell_type": "code",
      "execution_count": null,
      "metadata": {
        "id": "ae174441-3c7e-4b41-8869-7a67b6c61607"
      },
      "outputs": [],
      "source": [
        "alpha = globalAverage # Could initialize anywhere, this is a guess"
      ],
      "id": "ae174441-3c7e-4b41-8869-7a67b6c61607"
    },
    {
      "cell_type": "code",
      "execution_count": null,
      "metadata": {
        "id": "ced4bf80-22e7-44eb-9efe-e2ec42f893bb"
      },
      "outputs": [],
      "source": [
        "def iterateHW3(lamb, tole = 0.00001):\n",
        "    # ...\n",
        "    global alpha\n",
        "    previous_mse = float('inf')\n",
        "    pre_valid_mse = float('inf')\n",
        "    stop = False\n",
        "    count = 0\n",
        "    while not stop:\n",
        "        # preds = []\n",
        "        count += 1\n",
        "        alpha_sum = 0\n",
        "        betaU_sum = defaultdict(float)\n",
        "        betaI_sum = defaultdict(float)\n",
        "\n",
        "        # Accumulate updates\n",
        "        for u, i, data in hoursTrain:\n",
        "            hour = data['hours_transformed']\n",
        "            prediction = alpha + betaU[u] + betaI[i]\n",
        "            error = hour - prediction\n",
        "            alpha_sum += error\n",
        "            betaU_sum[u] += error\n",
        "            betaI_sum[i] += error\n",
        "\n",
        "        # Apply updates\n",
        "        alpha += (alpha_sum / len(hoursTrain))\n",
        "        for u in betaU:\n",
        "            betaU[u] += (betaU_sum[u] - betaU[u]) / (lamb + len(hoursPerUser[u]))\n",
        "        for i in betaI:\n",
        "            betaI[i] += (betaI_sum[i] - betaI[i]) / (lamb + len(hoursPerItem[i]))\n",
        "        preds = [alpha + betaU[d[0]] + betaI[d[1]] for d in hoursTrain]\n",
        "        mse = MSE(trainHours, preds)\n",
        "        validMSE = 0\n",
        "        for a, b, c in hoursValid:\n",
        "            r = c['hours_transformed']\n",
        "            bu = betaU.get(a, 0)  # Default to 0 if user not in betaU\n",
        "            bi = betaI.get(b, 0)  # Default to 0 if item not in betaI\n",
        "            prediction = alpha + bu + bi\n",
        "            validMSE += (r - prediction) ** 2\n",
        "\n",
        "        validMSE /= len(hoursValid)\n",
        "        if abs(pre_valid_mse - validMSE) < tole or validMSE > pre_valid_mse:\n",
        "            stop = True\n",
        "            break\n",
        "        previous_mse = mse\n",
        "        pre_valid_mse = validMSE\n",
        "        print(validMSE)\n",
        "def iterate(lamb, lamb2):\n",
        "    newAlpha = sum(d['hours_transformed'] - (betaU[u] + betaI[g] + np.dot(gammaU[u], gammaI[g])) for u, g, d in hoursTrain)\n",
        "    alpha = newAlpha / len(hoursTrain)\n",
        "    for u in hoursPerUser:\n",
        "        betaU[u] = sum(r - (alpha + betaI[g] + np.dot(gammaU[u], gammaI[g])) for g, r in hoursPerUser[u]) / (lamb + len(hoursPerUser[u]))\n",
        "    for g in hoursPerItem:\n",
        "        betaI[g] = sum(r - (alpha + betaU[u] + np.dot(gammaU[u], gammaI[g])) for u, r in hoursPerItem[g]) / (lamb + len(hoursPerItem[g]))\n",
        "    for u in gammaU:\n",
        "        for i in range(k):\n",
        "            gammaU[u][i] = sum((r - (alpha + betaU[u] + betaI[g])) * gammaI[g][i] for g, r in hoursPerUser[u]) / (lamb2 + sum(gammaI[g][i]**2 for g in hoursPerUser[u]))\n",
        "    for g in gammaI:\n",
        "        for i in range(k):\n",
        "            gammaI[g][i] = sum((r - (alpha + betaU[u] + betaI[g])) * gammaU[u][i] for u, r in hoursPerItem[g]) / (lamb2 + sum(gammaU[u][i]**2 for u in hoursPerItem[g]))\n",
        "    mse = sum((d['hours_transformed'] - (alpha + betaU[u] + betaI[g] + np.dot(gammaU[u], gammaI[g])))**2 for u, g, d in hoursTrain) / len(hoursTrain)\n",
        "    regularizer = sum(betaU[u]**2 for u in betaU) + sum(betaI[g]**2 for g in betaI) + sum(np.dot(gammaU[u], gammaU[u]) for u in gammaU) + sum(np.dot(gammaI[g], gammaI[g]) for g in gammaI)\n",
        "    return mse, mse + lamb * regularizer + lamb2 * regularizer"
      ],
      "id": "ced4bf80-22e7-44eb-9efe-e2ec42f893bb"
    },
    {
      "cell_type": "code",
      "execution_count": null,
      "metadata": {
        "id": "819985c3-55d2-40f8-9134-ca6cd456e96c"
      },
      "outputs": [],
      "source": [
        "mse,objective = iterate(0.1, 0.1)\n",
        "newMSE,newObjective = iterate(0.1, 0.1)\n",
        "iterations = 2"
      ],
      "id": "819985c3-55d2-40f8-9134-ca6cd456e96c"
    },
    {
      "cell_type": "code",
      "execution_count": null,
      "metadata": {
        "colab": {
          "base_uri": "https://localhost:8080/"
        },
        "id": "2433a9ba-c08f-438b-898b-37433c4f52ad",
        "outputId": "32e447cc-7a16-4c4b-d882-0473d5d65e58"
      },
      "outputs": [
        {
          "output_type": "stream",
          "name": "stdout",
          "text": [
            "Objective after 3 iterations = 839.0916144069411\n",
            "MSE after 3 iterations = 2.7543416959133262\n",
            "Objective after 4 iterations = 845.4124101322327\n",
            "MSE after 4 iterations = 2.753584278742793\n",
            "Objective after 5 iterations = 847.3272431172555\n",
            "MSE after 5 iterations = 2.7535231380236116\n",
            "Objective after 6 iterations = 847.8555350800967\n",
            "MSE after 6 iterations = 2.7535179689000615\n",
            "Objective after 7 iterations = 847.9830997477553\n",
            "MSE after 7 iterations = 2.7535174860787506\n",
            "Objective after 8 iterations = 847.9968205617836\n",
            "MSE after 8 iterations = 2.753517429027501\n"
          ]
        }
      ],
      "source": [
        "while abs(newObjective - objective) > 0.1:\n",
        "    mse, objective = newMSE, newObjective\n",
        "    newMSE, newObjective = iterate(0.1, 0.1)\n",
        "    iterations += 1\n",
        "    print(\"Objective after \"\n",
        "        + str(iterations) + \" iterations = \" + str(newObjective))\n",
        "    print(\"MSE after \"\n",
        "        + str(iterations) + \" iterations = \" + str(newMSE))"
      ],
      "id": "2433a9ba-c08f-438b-898b-37433c4f52ad"
    },
    {
      "cell_type": "code",
      "source": [
        "iterateHW3(100, 0.001)\n",
        "iterateHW3(1000, 0.00001)\n",
        "iterateHW3(5000, 0.000001)"
      ],
      "metadata": {
        "colab": {
          "base_uri": "https://localhost:8080/"
        },
        "id": "lqz5wExrjtYA",
        "outputId": "8edf70c9-b27a-47f9-80d1-4950a3686448"
      },
      "id": "lqz5wExrjtYA",
      "execution_count": null,
      "outputs": [
        {
          "output_type": "stream",
          "name": "stdout",
          "text": [
            "3.5289976505859846\n",
            "3.217151598921083\n",
            "3.101843611927979\n",
            "3.057242266282934\n",
            "3.026761215852807\n",
            "3.0149271966932556\n",
            "3.0036838148955316\n",
            "3.000634699318946\n",
            "2.9962861549684607\n",
            "2.9952720210175356\n",
            "2.99520674059655\n",
            "2.9950579861967803\n",
            "2.9949613452322215\n",
            "2.9948822134480966\n",
            "2.994820932700761\n",
            "2.994773408879028\n",
            "2.9947375829374474\n",
            "2.9947118068475507\n",
            "2.9946948726304656\n",
            "2.994716312928075\n",
            "2.9947058751835947\n",
            "2.9946984775135026\n",
            "2.9946920992088755\n",
            "2.9946867129987558\n",
            "2.994682222292867\n",
            "2.9946785460988194\n",
            "2.9946756136154455\n",
            "2.9946733629190656\n",
            "2.9946717397101916\n",
            "2.994670696254018\n"
          ]
        }
      ]
    },
    {
      "cell_type": "code",
      "execution_count": null,
      "metadata": {
        "colab": {
          "base_uri": "https://localhost:8080/"
        },
        "id": "a4544f0f-39ac-4452-9180-baa378507201",
        "outputId": "1a35dcaf-4cfd-44ee-8a40-e1b273218181"
      },
      "outputs": [
        {
          "output_type": "stream",
          "name": "stdout",
          "text": [
            "Validation MSE = 2.994670190478112\n"
          ]
        }
      ],
      "source": [
        "validMSE = 0\n",
        "for u, g, d in hoursValid:\n",
        "    r = d['hours_transformed']\n",
        "    bu = betaU.get(u, 0)  # Default to 0 if user not in betaU\n",
        "    bi = betaI.get(g, 0)  # Default to 0 if item not in betaI\n",
        "    gu = gammaU.get(u, np.zeros(k))  # Default to zero vector if user not in gammaU\n",
        "    gi = gammaI.get(g, np.zeros(k))  # Default to zero vector if item not in gammaI\n",
        "\n",
        "    # Dot product of user and item latent factors\n",
        "    # dot_product = np.dot(gu, gi)\n",
        "\n",
        "    # Prediction includes user bias, item bias, and dot product of latent factors\n",
        "    prediction = alpha + bu + bi\n",
        "\n",
        "    # Update MSE\n",
        "    validMSE += (r - prediction) ** 2\n",
        "\n",
        "validMSE /= len(hoursValid)\n",
        "print(\"Validation MSE = \" + str(validMSE))"
      ],
      "id": "a4544f0f-39ac-4452-9180-baa378507201"
    },
    {
      "cell_type": "code",
      "execution_count": null,
      "metadata": {
        "colab": {
          "base_uri": "https://localhost:8080/"
        },
        "id": "BF6lwjdjekCA",
        "outputId": "5fbbd9dd-f955-4659-a7f4-6fc6caf72320"
      },
      "outputs": [
        {
          "output_type": "stream",
          "name": "stdout",
          "text": [
            "Collecting surprise\n",
            "  Downloading surprise-0.1-py2.py3-none-any.whl (1.8 kB)\n",
            "Collecting scikit-surprise (from surprise)\n",
            "  Downloading scikit-surprise-1.1.3.tar.gz (771 kB)\n",
            "\u001b[2K     \u001b[90m━━━━━━━━━━━━━━━━━━━━━━━━━━━━━━━━━━━━━━━━\u001b[0m \u001b[32m772.0/772.0 kB\u001b[0m \u001b[31m8.8 MB/s\u001b[0m eta \u001b[36m0:00:00\u001b[0m\n",
            "\u001b[?25h  Preparing metadata (setup.py) ... \u001b[?25l\u001b[?25hdone\n",
            "Requirement already satisfied: joblib>=1.0.0 in /usr/local/lib/python3.10/dist-packages (from scikit-surprise->surprise) (1.3.2)\n",
            "Requirement already satisfied: numpy>=1.17.3 in /usr/local/lib/python3.10/dist-packages (from scikit-surprise->surprise) (1.23.5)\n",
            "Requirement already satisfied: scipy>=1.3.2 in /usr/local/lib/python3.10/dist-packages (from scikit-surprise->surprise) (1.11.3)\n",
            "Building wheels for collected packages: scikit-surprise\n",
            "  Building wheel for scikit-surprise (setup.py) ... \u001b[?25l\u001b[?25hdone\n",
            "  Created wheel for scikit-surprise: filename=scikit_surprise-1.1.3-cp310-cp310-linux_x86_64.whl size=3163482 sha256=00c191ae0651f5f4d1b791e4ecb6908606bce952d85261e17276436eb03a559f\n",
            "  Stored in directory: /root/.cache/pip/wheels/a5/ca/a8/4e28def53797fdc4363ca4af740db15a9c2f1595ebc51fb445\n",
            "Successfully built scikit-surprise\n",
            "Installing collected packages: scikit-surprise, surprise\n",
            "Successfully installed scikit-surprise-1.1.3 surprise-0.1\n"
          ]
        }
      ],
      "source": [
        "!pip install surprise"
      ],
      "id": "BF6lwjdjekCA"
    },
    {
      "cell_type": "code",
      "execution_count": null,
      "metadata": {
        "id": "c7eca876"
      },
      "outputs": [],
      "source": [
        "# latent using surprise\n",
        "from surprise import SVD, Dataset, Reader\n",
        "from surprise.model_selection import cross_validate\n",
        "import pandas as pd"
      ],
      "id": "c7eca876"
    },
    {
      "cell_type": "code",
      "execution_count": null,
      "metadata": {
        "colab": {
          "base_uri": "https://localhost:8080/"
        },
        "id": "5cb08db9",
        "outputId": "37f60bf5-747e-41ad-c5e4-05d7763ee212"
      },
      "outputs": [
        {
          "output_type": "execute_result",
          "data": {
            "text/plain": [
              "14.013750114071462"
            ]
          },
          "metadata": {},
          "execution_count": 107
        }
      ],
      "source": [
        "newTrain = [[d[0], d[1],d[2]['hours_transformed']] for d in allHours]\n",
        "maxHour = max([d[2] for d in newTrain])\n",
        "minHour = min([d[2] for d in newTrain])\n",
        "maxHour"
      ],
      "id": "5cb08db9"
    },
    {
      "cell_type": "code",
      "execution_count": null,
      "metadata": {
        "colab": {
          "base_uri": "https://localhost:8080/",
          "height": 472
        },
        "id": "hnXACqJWo5hr",
        "outputId": "2aab7b26-14c1-470a-e7ca-c9990606b1d1"
      },
      "outputs": [
        {
          "output_type": "display_data",
          "data": {
            "text/plain": [
              "<Figure size 640x480 with 1 Axes>"
            ],
            "image/png": "[encoded data removed]"
          },
          "metadata": {}
        }
      ],
      "source": [
        "df = pd.DataFrame(newTrain, columns=['userID', 'itemID', 'hour'])\n",
        "import matplotlib.pyplot as plt\n",
        "\n",
        "plt.hist(df['hour'], bins=20, edgecolor='black')\n",
        "plt.title('Distribution of Hours')\n",
        "plt.xlabel('Hours')\n",
        "plt.ylabel('Frequency')\n",
        "plt.show()"
      ],
      "id": "hnXACqJWo5hr"
    },
    {
      "cell_type": "code",
      "execution_count": null,
      "metadata": {
        "id": "zjCgiOsCp20i"
      },
      "outputs": [],
      "source": [
        "filtered_df = df[(df['hour'] > 0) & (df['hour'] <= 12)]"
      ],
      "id": "zjCgiOsCp20i"
    },
    {
      "cell_type": "code",
      "execution_count": null,
      "metadata": {
        "id": "b1ee56aa"
      },
      "outputs": [],
      "source": [
        "data = Dataset.load_from_df(df, Reader(rating_scale=(0, 10)))\n",
        "\n",
        "# Use the SVD algorithm\n",
        "algo = SVD()\n",
        "\n",
        "# Perform cross-validation and print results\n",
        "# cross_validate(algo, data, measures=['MSE', 'MAE'], cv=5, verbose=True)\n",
        "trainset = data.build_full_trainset()\n",
        "# algo.fit(trainset)\n"
      ],
      "id": "b1ee56aa"
    },
    {
      "cell_type": "code",
      "execution_count": null,
      "metadata": {
        "id": "f39923db"
      },
      "outputs": [],
      "source": [
        "newValid = [[d[0], d[1],d[2]['hours_transformed']] for d in hoursValid]\n",
        "dataValid = pd.DataFrame(newValid, columns=['userID', 'itemID', 'hour'])\n",
        "# y_pred = []\n",
        "# for _, row in dataValid.iterrows():\n",
        "#     prediction = algo.predict(row['userID'], row['itemID'])\n",
        "#     y_pred.append(prediction.est)"
      ],
      "id": "f39923db"
    },
    {
      "cell_type": "code",
      "execution_count": null,
      "metadata": {
        "id": "36b12bcb"
      },
      "outputs": [],
      "source": [
        "y_valid = [d[2]['hours_transformed'] for d in hoursValid]\n",
        "def MSE(y, ypred):\n",
        "    # ...\n",
        "    differences = [(x-y)**2 for x,y in zip(ypred,y)]\n",
        "    return sum(differences) / len(differences)\n",
        "# print(MSE(y_valid, y_pred))"
      ],
      "id": "36b12bcb"
    },
    {
      "cell_type": "code",
      "execution_count": null,
      "metadata": {
        "colab": {
          "base_uri": "https://localhost:8080/"
        },
        "id": "0b22dadf",
        "outputId": "87eb4792-e3d2-4a55-95a7-c3c789eb6f89"
      },
      "outputs": [
        {
          "output_type": "stream",
          "name": "stdout",
          "text": [
            "Estimating biases using als...\n",
            "Estimating biases using als...\n",
            "Estimating biases using als...\n",
            "Estimating biases using als...\n",
            "Estimating biases using als...\n",
            "Estimating biases using als...\n",
            "3.05212826055955\n",
            "{'bsl_options': {'method': 'als', 'n_epochs': 2, 'reg_u': 10, 'reg_i': 1}}\n"
          ]
        }
      ],
      "source": [
        "from surprise.model_selection import GridSearchCV\n",
        "from surprise import NMF, KNNBasic, SVDpp, SlopeOne, KNNWithMeans, KNNBaseline, CoClustering, KNNWithZScore, BaselineOnly\n",
        "param_grid = {\n",
        "    'n_factors': [0],\n",
        "    'n_epochs': [1500],\n",
        "    'init_std_dev': [0],\n",
        "    'init_mean': [0],\n",
        "    'reg_bu': [0.1],\n",
        "    'reg_bi': [0.001],\n",
        "    'reg_pu': [0],\n",
        "    'reg_qi': [0],\n",
        "    'lr_bu': [0.0001],\n",
        "    'lr_bi': [0.0001],\n",
        "    'lr_pu': [0.0001],\n",
        "    'lr_qi': [0.0001],\n",
        "    'verbose': [False]\n",
        "}\n",
        "p2 = {\n",
        "    'k':[1000],\n",
        "    'min_k':[900,800]\n",
        "}\n",
        "p3 = {\n",
        "    'bsl_options': {\n",
        "        \"method\": [\"als\"],\n",
        "        \"n_epochs\": [2,3],\n",
        "        \"reg_u\": [10], \"reg_i\": [1]\n",
        "    }\n",
        "}\n",
        "gs = GridSearchCV(BaselineOnly, p3, measures=['mse'], cv=3)\n",
        "gs.fit(data)\n",
        "print(gs.best_score['mse'])\n",
        "print(gs.best_params['mse'])"
      ],
      "id": "0b22dadf"
    },
    {
      "cell_type": "code",
      "source": [
        "print(gs.best_score['mse'])\n",
        "print(gs.best_params['mse'])"
      ],
      "metadata": {
        "colab": {
          "base_uri": "https://localhost:8080/"
        },
        "id": "T8Jzr8SWnKjz",
        "outputId": "beb917a6-11e9-4896-cd77-17d2834968d0"
      },
      "id": "T8Jzr8SWnKjz",
      "execution_count": null,
      "outputs": [
        {
          "output_type": "stream",
          "name": "stdout",
          "text": [
            "3.092460705976865\n",
            "{'n_factors': 1, 'n_epochs': 10, 'init_std_dev': 0, 'init_mean': 0, 'reg_bu': 0.1, 'reg_bi': 0, 'reg_pu': 0, 'reg_qi': 0, 'lr_bu': 0.004, 'lr_bi': 0.008, 'lr_pu': 0.005, 'lr_qi': 0.005, 'verbose': False}\n"
          ]
        }
      ]
    },
    {
      "cell_type": "code",
      "execution_count": null,
      "metadata": {
        "colab": {
          "base_uri": "https://localhost:8080/"
        },
        "id": "34ba2ce1",
        "outputId": "ce4d1259-0cb7-4edf-d5b1-f4bf8c0c7eb3"
      },
      "outputs": [
        {
          "output_type": "stream",
          "name": "stdout",
          "text": [
            "Estimating biases using als...\n"
          ]
        },
        {
          "output_type": "execute_result",
          "data": {
            "text/plain": [
              "<surprise.prediction_algorithms.baseline_only.BaselineOnly at 0x7bcdc2c2a1d0>"
            ]
          },
          "metadata": {},
          "execution_count": 347
        }
      ],
      "source": [
        "from surprise import NMF, KNNBasic, SVDpp, SlopeOne, KNNWithMeans, KNNBaseline, CoClustering, KNNWithZScore, BaselineOnly\n",
        "algo = SVD(n_factors=1, n_epochs=20,lr_bi = 0.008,lr_bu=0.004,lr_pu=0.005,lr_qi=0.005,\n",
        "                 reg_bu=0.1, reg_bi=0,reg_pu=0,reg_qi=0)\n",
        "# algo1 = NMF(reg_pu=0.2, reg_qi=0.2, reg_bu=0.2, reg_bi=0.2)\n",
        "# algo2 = KNNBasic(min_k=5)\n",
        "# algo3 = SVDpp(reg_all=0.3)\n",
        "# algo4 = SlopeOne()\n",
        "# algo5 = KNNWithMeans(min_k=5)\n",
        "# algo6 = KNNBaseline(min_k=1000, k=1000)\n",
        "# # algo7 = CoClustering(n_cltr_u = 7, n_cltr_i = 7)\n",
        "# algo8 = KNNWithZScore(min_k=5)\n",
        "bsl_op = {\n",
        "        \"method\": \"als\",\n",
        "        \"n_epochs\": 2,\n",
        "        \"reg_u\": 10, \"reg_i\": 1\n",
        "    }\n",
        "algo9 = BaselineOnly(bsl_options=bsl_op)\n",
        "algo.fit(trainset)\n",
        "# algo1.fit(trainset)\n",
        "# algo2.fit(trainset)\n",
        "# algo3.fit(trainset)\n",
        "# algo4.fit(trainset)\n",
        "# algo5.fit(trainset)\n",
        "# algo6.fit(trainset)\n",
        "# # algo7.fit(trainset)\n",
        "# algo8.fit(trainset)\n",
        "algo9.fit(trainset)\n",
        "# y_pred = []\n",
        "# for _, row in dataValid.iterrows():\n",
        "#     prediction = algo.predict(row['userID'], row['itemID'])\n",
        "#     y_pred.append(prediction.est)\n",
        "# y_pred1 = []\n",
        "# for _, row in dataValid.iterrows():\n",
        "#     prediction = algo1.predict(row['userID'], row['itemID'])\n",
        "#     y_pred1.append(prediction.est)\n",
        "# y_pred2 = []\n",
        "# for _, row in dataValid.iterrows():\n",
        "#     prediction = algo2.predict(row['userID'], row['itemID'])\n",
        "#     y_pred2.append(prediction.est)\n",
        "# y_pred3 = []\n",
        "# for _, row in dataValid.iterrows():\n",
        "#     prediction = algo3.predict(row['userID'], row['itemID'])\n",
        "#     y_pred3.append(prediction.est)\n",
        "# y_pred4 = []\n",
        "# y_pred5 = []\n",
        "# y_pred6 = []\n",
        "# # y_pred7 = []\n",
        "# y_pred8 = []\n",
        "# y_pred9 = []\n",
        "# for _, row in dataValid.iterrows():\n",
        "#     prediction4 = algo4.predict(row['userID'], row['itemID'])\n",
        "#     y_pred4.append(prediction4.est)\n",
        "#     prediction5 = algo5.predict(row['userID'], row['itemID'])\n",
        "#     y_pred5.append(prediction5.est)\n",
        "#     prediction6 = algo6.predict(row['userID'], row['itemID'])\n",
        "#     y_pred6.append(prediction6.est)\n",
        "#     # prediction7 = algo7.predict(row['userID'], row['itemID'])\n",
        "#     # y_pred7.append(prediction7.est)\n",
        "#     prediction8 = algo8.predict(row['userID'], row['itemID'])\n",
        "#     y_pred8.append(prediction8.est)\n",
        "#     prediction9 = algo9.predict(row['userID'], row['itemID'])\n",
        "#     y_pred9.append(prediction9.est)\n",
        "# print(MSE(y_valid, y_pred))\n",
        "# print(MSE(y_valid, y_pred1))\n",
        "# print(MSE(y_valid, y_pred2))\n",
        "# print(MSE(y_valid, y_pred3))\n",
        "# print(MSE(y_valid, y_pred4))\n",
        "# print(MSE(y_valid, y_pred5))\n",
        "# print(MSE(y_valid, y_pred6))\n",
        "# # print(MSE(y_valid, y_pred7))\n",
        "# print(MSE(y_valid, y_pred8))\n",
        "# print(MSE(y_valid, y_pred9))"
      ],
      "id": "34ba2ce1"
    },
    {
      "cell_type": "code",
      "source": [],
      "metadata": {
        "id": "eeTpsgJo_aM_"
      },
      "id": "eeTpsgJo_aM_",
      "execution_count": null,
      "outputs": []
    },
    {
      "cell_type": "code",
      "source": [
        "avI = np.mean([i for i in betaI.values()])\n",
        "avU = np.mean([i for i in betaU.values()])"
      ],
      "metadata": {
        "id": "ZwyBoVr0c5ev"
      },
      "id": "ZwyBoVr0c5ev",
      "execution_count": null,
      "outputs": []
    },
    {
      "cell_type": "code",
      "execution_count": null,
      "metadata": {
        "id": "90a7cd55-1f58-42a5-8c35-4debf80a3e3e"
      },
      "outputs": [],
      "source": [
        "predictions = open(\"predictions_Hours.csv\", 'w')\n",
        "pps = []\n",
        "for l in open(\"pairs_Hours.csv\"):\n",
        "    if l.startswith(\"userID\"):\n",
        "        predictions.write(l)\n",
        "        continue\n",
        "    u,g = l.strip().split(',')\n",
        "    bu = betaU.get(u, 0)\n",
        "    bi = betaI.get(g, 0)\n",
        "    # gu = gammaU.get(u, np.zeros(k))  # Default to zero vector if user not in gammaU\n",
        "    # gi = gammaI.get(g, np.zeros(k))  # Default to zero vector if item not in gammaI\n",
        "    # dot_product = np.dot(gu, gi)\n",
        "    # pred = alpha + bu + bi\n",
        "    # pred = regressor.predict([feature_svd((u,g))])[0]\n",
        "    # pred = selector(u,g)\n",
        "    pred = algo9.predict(u,g)\n",
        "    pred = pred.est\n",
        "    if pred < 0: pred = 0\n",
        "    pps.append(pred)\n",
        "    _ = predictions.write(u + ',' + g + ',' + str(pred) + '\\n')\n",
        "\n",
        "predictions.close()"
      ],
      "id": "90a7cd55-1f58-42a5-8c35-4debf80a3e3e"
    },
    {
      "cell_type": "code",
      "execution_count": null,
      "metadata": {
        "id": "c5fe92e3-3ab1-4858-858c-eeb732d964f6",
        "colab": {
          "base_uri": "https://localhost:8080/"
        },
        "outputId": "613ed0b8-d491-4c5e-b340-db19b8c23ac8"
      },
      "outputs": [
        {
          "output_type": "execute_result",
          "data": {
            "text/plain": [
              "9.333673302296004"
            ]
          },
          "metadata": {},
          "execution_count": 349
        }
      ],
      "source": [
        "max(pps)"
      ],
      "id": "c5fe92e3-3ab1-4858-858c-eeb732d964f6"
    },
    {
      "cell_type": "code",
      "execution_count": null,
      "metadata": {
        "id": "a54e7b3f"
      },
      "outputs": [],
      "source": [],
      "id": "a54e7b3f"
    }
  ],
  "metadata": {
    "colab": {
      "provenance": [],
      "include_colab_link": true
    },
    "kernelspec": {
      "display_name": "Python 3",
      "language": "python",
      "name": "python3"
    },
    "language_info": {
      "codemirror_mode": {
        "name": "ipython",
        "version": 3
      },
      "file_extension": ".py",
      "mimetype": "text/x-python",
      "name": "python",
      "nbconvert_exporter": "python",
      "pygments_lexer": "ipython3",
      "version": "3.8.8"
    }
  },
  "nbformat": 4,
  "nbformat_minor": 5
}